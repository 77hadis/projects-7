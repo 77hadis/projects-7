{
 "cells": [
  {
   "cell_type": "code",
   "execution_count": 26,
   "id": "3b24c210",
   "metadata": {},
   "outputs": [],
   "source": [
    "import glob"
   ]
  },
  {
   "cell_type": "code",
   "execution_count": 40,
   "id": "5d9491ae",
   "metadata": {},
   "outputs": [
    {
     "data": {
      "text/plain": [
       "[]"
      ]
     },
     "execution_count": 40,
     "metadata": {},
     "output_type": "execute_result"
    }
   ],
   "source": [
    "PATH='C:\\\\Users\\\\Sony\\\\train_face\\\\subject01'\n",
    "# import train image files \n",
    "sub1 =glob.glob(PATH+f'subject01*.gif')\n",
    "sub2 =glob.glob(PATH+f'subject02*.gif')\n",
    "sub3 =glob.glob(PATH+f'subject03*.gif')\n",
    "sub4 =glob.glob(PATH+f'subject04*.gif')\n",
    "sub5 =glob.glob(PATH+f'subject05*.gif')\n",
    "sub6 =glob.glob(PATH+f'subject06*.gif')\n",
    "sub7 =glob.glob(PATH+f'subject07*.gif')\n",
    "sub8 =glob.glob(PATH+f'subject08*.gif')\n",
    "sub9 =glob.glob(PATH+f'subject09*.gif')\n",
    "sub10 =glob.glob(PATH+f'subject10*.gif')\n",
    "sub11 =glob.glob(PATH+f'subject11*.gif')\n",
    "sub12 =glob.glob(PATH+f'subject12*.gif')\n",
    "sub13 =glob.glob(PATH+f'subject13*.gif')\n",
    "sub14 =glob.glob(PATH+f'subject14*.gif')\n",
    "sub15 =glob.glob(PATH+f'subject15*.gif')\n",
    "\n",
    "sub1"
   ]
  },
  {
   "cell_type": "code",
   "execution_count": 41,
   "id": "9d0a1afb",
   "metadata": {},
   "outputs": [],
   "source": [
    "#from matplotlib.image import imread\n",
    "\n",
    "#img = imread('abc.tiff')\n",
    "#print(type(img))\n",
    "\n",
    "#import cv2\n",
    "#im = cv2.imread(\"abc.tiff\",mode='RGB')\n",
    "#print(type(im))\n",
    "\n",
    "nafar1=[]\n",
    "for image in sub1:\n",
    "    img= cv2.imread(image,1)\n",
    "    nafar1= nafar1.append(img)\n",
    "    \n",
    " "
   ]
  },
  {
   "cell_type": "code",
   "execution_count": 48,
   "id": "7acebf35",
   "metadata": {},
   "outputs": [
    {
     "data": {
      "text/plain": [
       "NoneType"
      ]
     },
     "execution_count": 48,
     "metadata": {},
     "output_type": "execute_result"
    }
   ],
   "source": [
    "import cv2\n",
    "ax=cv2.imread('C:\\\\Users\\\\Sony\\\\train_face\\\\subject01.happy.gif')\n",
    "#cv2.imshow('hello',ax)\n",
    "type(ax)"
   ]
  },
  {
   "cell_type": "code",
   "execution_count": 52,
   "id": "f709fdd6",
   "metadata": {},
   "outputs": [
    {
     "data": {
      "text/plain": [
       "'C:\\\\Users\\\\Sony'"
      ]
     },
     "execution_count": 52,
     "metadata": {},
     "output_type": "execute_result"
    }
   ],
   "source": [
    " import os\n",
    "\n",
    "os.getcwd()"
   ]
  },
  {
   "cell_type": "code",
   "execution_count": 59,
   "id": "5c96d262",
   "metadata": {},
   "outputs": [
    {
     "data": {
      "text/plain": [
       "True"
      ]
     },
     "execution_count": 59,
     "metadata": {},
     "output_type": "execute_result"
    }
   ],
   "source": [
    "import os.path\n",
    "#path= \n",
    "os.path.isfile(\"C:\\\\Users\\\\Sony\\\\train_face\\\\subject01.happy.gif\")"
   ]
  },
  {
   "cell_type": "code",
   "execution_count": 66,
   "id": "974a3f28",
   "metadata": {},
   "outputs": [
    {
     "data": {
      "text/plain": [
       "True"
      ]
     },
     "execution_count": 66,
     "metadata": {},
     "output_type": "execute_result"
    }
   ],
   "source": [
    "path= 'C:\\\\Users\\\\Sony\\\\Desktop\\\\YALE faces\\\\yalefaces\\\\train_face\\\\nafar1\\\\subject01.happy.gif'\n",
    "#PATH+f'subject01*.gif'\n",
    "os.path.isfile( path )"
   ]
  },
  {
   "cell_type": "code",
   "execution_count": 69,
   "id": "c0f1f2d2",
   "metadata": {},
   "outputs": [
    {
     "data": {
      "text/plain": [
       "False"
      ]
     },
     "execution_count": 69,
     "metadata": {},
     "output_type": "execute_result"
    }
   ],
   "source": [
    "\n",
    "path= 'C:\\\\Users\\\\Sony\\\\Desktop\\\\YALE faces\\\\yalefaces\\\\train_face\\\\nafar1\\\\'\n",
    "#PATH+f'subject01*.gif'\n",
    "os.path.isfile (path +f'subject01*.gif' )"
   ]
  },
  {
   "cell_type": "code",
   "execution_count": 74,
   "id": "a76a32c7",
   "metadata": {},
   "outputs": [
    {
     "ename": "AttributeError",
     "evalue": "'NoneType' object has no attribute 'append'",
     "output_type": "error",
     "traceback": [
      "\u001b[1;31m---------------------------------------------------------------------------\u001b[0m",
      "\u001b[1;31mAttributeError\u001b[0m                            Traceback (most recent call last)",
      "\u001b[1;32m<ipython-input-74-790e6e810272>\u001b[0m in \u001b[0;36m<module>\u001b[1;34m\u001b[0m\n\u001b[0;32m      6\u001b[0m \u001b[1;32mfor\u001b[0m \u001b[0mimage\u001b[0m \u001b[1;32min\u001b[0m \u001b[0mglob\u001b[0m\u001b[1;33m.\u001b[0m\u001b[0mglob\u001b[0m\u001b[1;33m(\u001b[0m\u001b[1;34mf'{folder_dir}/*'\u001b[0m\u001b[1;33m)\u001b[0m\u001b[1;33m:\u001b[0m\u001b[1;33m\u001b[0m\u001b[0m\n\u001b[0;32m      7\u001b[0m     \u001b[0mimg\u001b[0m\u001b[1;33m=\u001b[0m \u001b[0mcv2\u001b[0m\u001b[1;33m.\u001b[0m\u001b[0mimread\u001b[0m\u001b[1;33m(\u001b[0m\u001b[0mimage\u001b[0m\u001b[1;33m,\u001b[0m\u001b[1;36m1\u001b[0m\u001b[1;33m)\u001b[0m\u001b[1;33m\u001b[0m\u001b[0m\n\u001b[1;32m----> 8\u001b[1;33m     \u001b[0mnafar1\u001b[0m\u001b[1;33m=\u001b[0m \u001b[0mnafar1\u001b[0m\u001b[1;33m.\u001b[0m\u001b[0mappend\u001b[0m\u001b[1;33m(\u001b[0m\u001b[0mimg\u001b[0m\u001b[1;33m)\u001b[0m\u001b[1;33m\u001b[0m\u001b[0m\n\u001b[0m\u001b[0;32m      9\u001b[0m \u001b[1;33m\u001b[0m\u001b[0m\n",
      "\u001b[1;31mAttributeError\u001b[0m: 'NoneType' object has no attribute 'append'"
     ]
    }
   ],
   "source": [
    "folder_dir = 'C:\\\\Users\\\\Sony\\\\Desktop\\\\YALE faces\\\\yalefaces\\\\train_face\\\\nafar1\\\\'\n",
    " \n",
    "# iterate over files in\n",
    "# that directory\n",
    "nafar1=[]\n",
    "for image in glob.glob(f'{folder_dir}/*'):\n",
    "    img= cv2.imread(image,1)\n",
    "    nafar1= nafar1.append(img)\n",
    "    "
   ]
  },
  {
   "cell_type": "code",
   "execution_count": 82,
   "id": "92e1cd9e",
   "metadata": {},
   "outputs": [
    {
     "ename": "TypeError",
     "evalue": "'module' object is not callable",
     "output_type": "error",
     "traceback": [
      "\u001b[1;31m---------------------------------------------------------------------------\u001b[0m",
      "\u001b[1;31mTypeError\u001b[0m                                 Traceback (most recent call last)",
      "\u001b[1;32m<ipython-input-82-f10488d5d478>\u001b[0m in \u001b[0;36m<module>\u001b[1;34m\u001b[0m\n\u001b[0;32m      4\u001b[0m \u001b[1;33m\u001b[0m\u001b[0m\n\u001b[0;32m      5\u001b[0m \u001b[1;32mfor\u001b[0m \u001b[0mi\u001b[0m \u001b[1;32min\u001b[0m \u001b[0mrange\u001b[0m\u001b[1;33m(\u001b[0m\u001b[1;36m10\u001b[0m\u001b[1;33m)\u001b[0m\u001b[1;33m:\u001b[0m\u001b[1;33m\u001b[0m\u001b[0m\n\u001b[1;32m----> 6\u001b[1;33m     \u001b[1;32mfor\u001b[0m \u001b[0mfilename\u001b[0m \u001b[1;32min\u001b[0m \u001b[0mglob\u001b[0m\u001b[1;33m(\u001b[0m\u001b[1;34m'Desktop\\YALE faces\\yalefaces\\train_face\\nafar1'\u001b[0m \u001b[1;33m+\u001b[0m \u001b[1;34m'/*.gif'\u001b[0m\u001b[1;33m)\u001b[0m\u001b[1;33m:\u001b[0m\u001b[1;33m\u001b[0m\u001b[0m\n\u001b[0m\u001b[0;32m      7\u001b[0m         \u001b[0mimage\u001b[0m \u001b[1;33m=\u001b[0m \u001b[0mmpimg\u001b[0m\u001b[1;33m.\u001b[0m\u001b[0mimread\u001b[0m\u001b[1;33m(\u001b[0m\u001b[0mfilename\u001b[0m\u001b[1;33m)\u001b[0m\u001b[1;33m\u001b[0m\u001b[0m\n\u001b[0;32m      8\u001b[0m         \u001b[0marray_of_list_of_numbers\u001b[0m\u001b[1;33m[\u001b[0m\u001b[0mi\u001b[0m\u001b[1;33m]\u001b[0m\u001b[1;33m.\u001b[0m\u001b[0mappend\u001b[0m\u001b[1;33m(\u001b[0m\u001b[0mimage\u001b[0m\u001b[1;33m)\u001b[0m\u001b[1;33m\u001b[0m\u001b[0m\n",
      "\u001b[1;31mTypeError\u001b[0m: 'module' object is not callable"
     ]
    }
   ],
   "source": [
    "import matplotlib.image as mpimg\n",
    "array_of_list_of_numbers = [[] for i in range(10)]\n",
    "\n",
    "\n",
    "for i in range(10):\n",
    "    for filename in glob('Desktop\\YALE faces\\yalefaces\\train_face\\nafar1' + '/*.gif'):\n",
    "        image = mpimg.imread(filename)\n",
    "        array_of_list_of_numbers[i].append(image)"
   ]
  },
  {
   "cell_type": "code",
   "execution_count": null,
   "id": "5812f8cb",
   "metadata": {},
   "outputs": [],
   "source": [
    "import matplotlib.image as mpimg\n",
    "array_of_list_of_numbers = [[] for i in range(10)]\n",
    "\n",
    "\n",
    "for i in range(10):\n",
    "    for filename in glob.glob('Desktop\\YALE faces\\yalefaces\\train_face\\nafar1' + '/*.gif'):\n",
    "        image = mpimg.imread(filename)\n",
    "        array_of_list_of_numbers[i].append(image)"
   ]
  },
  {
   "cell_type": "code",
   "execution_count": 15,
   "id": "5d3596a0",
   "metadata": {},
   "outputs": [],
   "source": [
    "import numpy as np\n",
    "import glob\n",
    "import matplotlib.image as mpimg\n",
    "#C:\\Users\\Sony\\Desktop\\YALE faces\\yalefaces\\train_face\n",
    "A= np.zeros(shape=(77760,9,15))\n",
    "for i in range (15):\n",
    "    j=0\n",
    "    for picture in glob.glob(\"./YALE faces/yalefaces/train_face\" +str(i+1).rjust(2,'0')+ \"*.gif\"):\n",
    "        image = mpimg.imread(filename)\n",
    "        A[:,j,i]= image.flatten('F')\n",
    "        j= j+1"
   ]
  },
  {
   "cell_type": "code",
   "execution_count": 16,
   "id": "6753351a",
   "metadata": {},
   "outputs": [
    {
     "data": {
      "text/plain": [
       "array([[[0., 0., 0., ..., 0., 0., 0.],\n",
       "        [0., 0., 0., ..., 0., 0., 0.],\n",
       "        [0., 0., 0., ..., 0., 0., 0.],\n",
       "        ...,\n",
       "        [0., 0., 0., ..., 0., 0., 0.],\n",
       "        [0., 0., 0., ..., 0., 0., 0.],\n",
       "        [0., 0., 0., ..., 0., 0., 0.]],\n",
       "\n",
       "       [[0., 0., 0., ..., 0., 0., 0.],\n",
       "        [0., 0., 0., ..., 0., 0., 0.],\n",
       "        [0., 0., 0., ..., 0., 0., 0.],\n",
       "        ...,\n",
       "        [0., 0., 0., ..., 0., 0., 0.],\n",
       "        [0., 0., 0., ..., 0., 0., 0.],\n",
       "        [0., 0., 0., ..., 0., 0., 0.]],\n",
       "\n",
       "       [[0., 0., 0., ..., 0., 0., 0.],\n",
       "        [0., 0., 0., ..., 0., 0., 0.],\n",
       "        [0., 0., 0., ..., 0., 0., 0.],\n",
       "        ...,\n",
       "        [0., 0., 0., ..., 0., 0., 0.],\n",
       "        [0., 0., 0., ..., 0., 0., 0.],\n",
       "        [0., 0., 0., ..., 0., 0., 0.]],\n",
       "\n",
       "       ...,\n",
       "\n",
       "       [[0., 0., 0., ..., 0., 0., 0.],\n",
       "        [0., 0., 0., ..., 0., 0., 0.],\n",
       "        [0., 0., 0., ..., 0., 0., 0.],\n",
       "        ...,\n",
       "        [0., 0., 0., ..., 0., 0., 0.],\n",
       "        [0., 0., 0., ..., 0., 0., 0.],\n",
       "        [0., 0., 0., ..., 0., 0., 0.]],\n",
       "\n",
       "       [[0., 0., 0., ..., 0., 0., 0.],\n",
       "        [0., 0., 0., ..., 0., 0., 0.],\n",
       "        [0., 0., 0., ..., 0., 0., 0.],\n",
       "        ...,\n",
       "        [0., 0., 0., ..., 0., 0., 0.],\n",
       "        [0., 0., 0., ..., 0., 0., 0.],\n",
       "        [0., 0., 0., ..., 0., 0., 0.]],\n",
       "\n",
       "       [[0., 0., 0., ..., 0., 0., 0.],\n",
       "        [0., 0., 0., ..., 0., 0., 0.],\n",
       "        [0., 0., 0., ..., 0., 0., 0.],\n",
       "        ...,\n",
       "        [0., 0., 0., ..., 0., 0., 0.],\n",
       "        [0., 0., 0., ..., 0., 0., 0.],\n",
       "        [0., 0., 0., ..., 0., 0., 0.]]])"
      ]
     },
     "execution_count": 16,
     "metadata": {},
     "output_type": "execute_result"
    }
   ],
   "source": [
    "A"
   ]
  },
  {
   "cell_type": "code",
   "execution_count": 18,
   "id": "b00a9c16",
   "metadata": {},
   "outputs": [
    {
     "data": {
      "text/plain": [
       "False"
      ]
     },
     "execution_count": 18,
     "metadata": {},
     "output_type": "execute_result"
    }
   ],
   "source": [
    "import os\n",
    "\n",
    "os.path.isfile(\"Desktop/YALE faces/yalefaces/train_face\" +str(i+1).rjust(2,'0')+ \"*.gif\")"
   ]
  },
  {
   "cell_type": "code",
   "execution_count": 21,
   "id": "9efec773",
   "metadata": {},
   "outputs": [
    {
     "data": {
      "text/plain": [
       "False"
      ]
     },
     "execution_count": 21,
     "metadata": {},
     "output_type": "execute_result"
    }
   ],
   "source": [
    "os.path.isfile(\"C\\\\Users\\\\Sony\\\\Desktop\\\\YALE faces\\\\yalefaces\\\\train_face\")"
   ]
  },
  {
   "cell_type": "code",
   "execution_count": null,
   "id": "f8c9ca63",
   "metadata": {},
   "outputs": [],
   "source": [
    "relevant_files = glob.glob(os.path.join(work_dir, \"a*.jpg\"))"
   ]
  },
  {
   "cell_type": "code",
   "execution_count": null,
   "id": "36153d7a",
   "metadata": {},
   "outputs": [],
   "source": [
    "import glob\n",
    "import cv2\n",
    "\n",
    "images = [cv2.imread(file) for file in glob.glob(\"path/to/files/*.png\")]"
   ]
  },
  {
   "cell_type": "code",
   "execution_count": 8,
   "id": "a3e9a790",
   "metadata": {},
   "outputs": [],
   "source": [
    "import glob\n",
    "import cv2\n",
    "#C:\\Users\\Sony\\Desktop\\YALE faces\\yalefaces\\train_face\n",
    "images = [cv2.imread(images) for images in glob.glob(\"Desktop/YALE faces/yalefaces/train_face/subject01*.gif\")]"
   ]
  },
  {
   "cell_type": "code",
   "execution_count": 9,
   "id": "55662f94",
   "metadata": {},
   "outputs": [
    {
     "data": {
      "text/plain": [
       "[None, None, None, None, None, None, None, None, None]"
      ]
     },
     "execution_count": 9,
     "metadata": {},
     "output_type": "execute_result"
    }
   ],
   "source": [
    "images"
   ]
  },
  {
   "cell_type": "code",
   "execution_count": 10,
   "id": "126dd366",
   "metadata": {},
   "outputs": [
    {
     "data": {
      "text/plain": [
       "['Desktop/YALE faces/yalefaces/train_face\\\\subject01.centerlight.gif',\n",
       " 'Desktop/YALE faces/yalefaces/train_face\\\\subject01.happy.gif',\n",
       " 'Desktop/YALE faces/yalefaces/train_face\\\\subject01.leftlight.gif',\n",
       " 'Desktop/YALE faces/yalefaces/train_face\\\\subject01.normal.gif',\n",
       " 'Desktop/YALE faces/yalefaces/train_face\\\\subject01.rightlight.gif',\n",
       " 'Desktop/YALE faces/yalefaces/train_face\\\\subject01.sad.gif',\n",
       " 'Desktop/YALE faces/yalefaces/train_face\\\\subject01.sleepy.gif',\n",
       " 'Desktop/YALE faces/yalefaces/train_face\\\\subject01.surprised.gif',\n",
       " 'Desktop/YALE faces/yalefaces/train_face\\\\subject01.wink.gif']"
      ]
     },
     "execution_count": 10,
     "metadata": {},
     "output_type": "execute_result"
    }
   ],
   "source": [
    "glob.glob(\"Desktop/YALE faces/yalefaces/train_face/subject01*.gif\")"
   ]
  },
  {
   "cell_type": "code",
   "execution_count": 25,
   "id": "4e16bed5",
   "metadata": {},
   "outputs": [],
   "source": [
    "nafar1=[]\n",
    "for images in glob.glob(\"Desktop/YALE faces/yalefaces/train_face/subject01*.gif\"):\n",
    "    nafar1.append(cv2.imread(images,1))"
   ]
  },
  {
   "cell_type": "code",
   "execution_count": 26,
   "id": "74b3e838",
   "metadata": {},
   "outputs": [
    {
     "data": {
      "text/plain": [
       "[None, None, None, None, None, None, None, None, None]"
      ]
     },
     "execution_count": 26,
     "metadata": {},
     "output_type": "execute_result"
    }
   ],
   "source": [
    "nafar1"
   ]
  },
  {
   "cell_type": "code",
   "execution_count": 27,
   "id": "a4cc149f",
   "metadata": {},
   "outputs": [],
   "source": [
    "import numpy as np\n",
    "A= np.zeros(shape=(77760,9,15))"
   ]
  },
  {
   "cell_type": "code",
   "execution_count": 35,
   "id": "f1e94d8f",
   "metadata": {},
   "outputs": [
    {
     "name": "stdout",
     "output_type": "stream",
     "text": [
      "<class 'numpy.ndarray'>\n",
      "()\n",
      "<class 'numpy.ndarray'>\n",
      "(243, 320)\n"
     ]
    }
   ],
   "source": [
    "from numpy import asarray\n",
    "ax= cv2.imread(\"Desktop/YALE faces/yalefaces/train_face/subject01.sad.gif\")\n",
    "\n",
    "from PIL import Image\n",
    "  \n",
    "# open method used to open different extension image file\n",
    "im = Image.open(r\"Desktop/YALE faces/yalefaces/train_face/subject01.sad.gif\") \n",
    "\n",
    "\n",
    "numpydata = asarray(ax)\n",
    "numpydata\n",
    "print(type(numpydata))\n",
    " \n",
    "#  shape\n",
    "print(numpydata.shape)\n",
    "\n",
    "\n",
    "numdata = asarray(im)\n",
    "numdata\n",
    "print(type(numdata))\n",
    " \n",
    "#  shape\n",
    "print(numdata.shape)"
   ]
  },
  {
   "cell_type": "code",
   "execution_count": 24,
   "id": "f5ad4437",
   "metadata": {},
   "outputs": [
    {
     "name": "stdout",
     "output_type": "stream",
     "text": [
      "None\n"
     ]
    }
   ],
   "source": [
    "print(ax)"
   ]
  },
  {
   "cell_type": "code",
   "execution_count": 28,
   "id": "d5d4f3cc",
   "metadata": {},
   "outputs": [
    {
     "ename": "TypeError",
     "evalue": "'NoneType' object is not subscriptable",
     "output_type": "error",
     "traceback": [
      "\u001b[1;31m---------------------------------------------------------------------------\u001b[0m",
      "\u001b[1;31mTypeError\u001b[0m                                 Traceback (most recent call last)",
      "\u001b[1;32m<ipython-input-28-f7dad8adaade>\u001b[0m in \u001b[0;36m<module>\u001b[1;34m\u001b[0m\n\u001b[0;32m      1\u001b[0m \u001b[0mimg\u001b[0m \u001b[1;33m=\u001b[0m \u001b[0mcv2\u001b[0m\u001b[1;33m.\u001b[0m\u001b[0mimread\u001b[0m\u001b[1;33m(\u001b[0m\u001b[1;34m'Desktop/YALE faces/yalefaces/train_face/subject01.sad.gif'\u001b[0m\u001b[1;33m,\u001b[0m \u001b[1;36m1\u001b[0m\u001b[1;33m)\u001b[0m\u001b[1;33m\u001b[0m\u001b[0m\n\u001b[0;32m      2\u001b[0m \u001b[1;33m\u001b[0m\u001b[0m\n\u001b[1;32m----> 3\u001b[1;33m \u001b[0mprint\u001b[0m\u001b[1;33m(\u001b[0m\u001b[0mlen\u001b[0m\u001b[1;33m(\u001b[0m\u001b[0mimg\u001b[0m\u001b[1;33m[\u001b[0m\u001b[1;36m0\u001b[0m\u001b[1;33m]\u001b[0m\u001b[1;33m)\u001b[0m\u001b[1;33m)\u001b[0m\u001b[1;33m\u001b[0m\u001b[0m\n\u001b[0m",
      "\u001b[1;31mTypeError\u001b[0m: 'NoneType' object is not subscriptable"
     ]
    }
   ],
   "source": [
    "img = cv2.imread('Desktop/YALE faces/yalefaces/train_face/subject01.sad.gif', 1)\n",
    "\n",
    "print(len(img[0]))"
   ]
  },
  {
   "cell_type": "code",
   "execution_count": 1,
   "id": "e386bf0e",
   "metadata": {},
   "outputs": [],
   "source": [
    "import numpy as np\n",
    "import glob\n",
    "import matplotlib.image as mpimg\n",
    "from numpy import asarray\n",
    "#C:\\Users\\Sony\\Desktop\\YALE faces\\yalefaces\\train_face\n",
    "\n",
    "nafar1=[]\n",
    "#for images in glob.glob(\"Desktop/YALE faces/yalefaces/train_face/subject01*.gif\"):\n",
    "#    nafar1.append(cv2.imread(images,1))\n",
    "    \n",
    "from PIL import Image \n",
    "\n",
    "A= np.zeros(shape=(77760,9,15))\n",
    "\n",
    "for shakhs in range (15): #i\n",
    "    mood=0 #j\n",
    "    if shakhs <= 8:\n",
    "        for picture in glob.glob(\"Desktop/YALE faces/yalefaces/train_face/subject0\"+ str(shakhs+1) + \"*.gif\"):\n",
    "            im = Image.open(picture)\n",
    "            im= asarray(im)\n",
    "            A[:,mood,shakhs]= im.flatten('F')\n",
    "            mood= mood+1\n",
    "    else: \n",
    "        for picture in glob.glob(\"Desktop/YALE faces/yalefaces/train_face/subject\"+ str(shakhs+1) + \"*.gif\"):\n",
    "            im = Image.open(picture)\n",
    "            im= asarray(im)\n",
    "            A[:,mood,shakhs]= im.flatten('F')\n",
    "            mood= mood+1"
   ]
  },
  {
   "cell_type": "code",
   "execution_count": 2,
   "id": "e6a7b086",
   "metadata": {},
   "outputs": [
    {
     "data": {
      "text/plain": [
       "(77760, 9, 15)"
      ]
     },
     "execution_count": 2,
     "metadata": {},
     "output_type": "execute_result"
    }
   ],
   "source": [
    "A.shape"
   ]
  },
  {
   "cell_type": "code",
   "execution_count": 3,
   "id": "f83ebe7a",
   "metadata": {},
   "outputs": [
    {
     "data": {
      "text/plain": [
       "array([[[130., 130., 130., ..., 130., 130., 124.],\n",
       "        [130., 109., 130., ..., 130., 130., 130.],\n",
       "        [130., 130., 130., ..., 130., 130., 108.],\n",
       "        ...,\n",
       "        [130., 108., 130., ..., 130., 130., 130.],\n",
       "        [130., 109., 130., ..., 130., 130., 130.],\n",
       "        [130., 110., 130., ..., 130., 130., 130.]],\n",
       "\n",
       "       [[255., 255., 255., ..., 255., 255., 255.],\n",
       "        [255., 235., 255., ..., 255., 255., 255.],\n",
       "        [255., 255., 255., ..., 255., 255., 237.],\n",
       "        ...,\n",
       "        [255., 234., 255., ..., 255., 255., 255.],\n",
       "        [255., 236., 255., ..., 255., 255., 255.],\n",
       "        [255., 238., 255., ..., 255., 255., 255.]],\n",
       "\n",
       "       [[255., 255., 255., ..., 255., 255., 246.],\n",
       "        [255., 253., 255., ..., 255., 255., 255.],\n",
       "        [255., 255., 255., ..., 255., 255., 236.],\n",
       "        ...,\n",
       "        [255., 251., 255., ..., 255., 255., 255.],\n",
       "        [255., 252., 255., ..., 255., 255., 255.],\n",
       "        [255., 253., 255., ..., 255., 255., 255.]],\n",
       "\n",
       "       ...,\n",
       "\n",
       "       [[255., 255., 255., ..., 237., 255., 216.],\n",
       "        [255., 183., 255., ..., 195., 255., 237.],\n",
       "        [203.,  60.,  25., ..., 116., 230., 123.],\n",
       "        ...,\n",
       "        [255., 176., 255., ..., 192., 255., 255.],\n",
       "        [255., 182., 255., ..., 196., 255., 255.],\n",
       "        [255., 182., 255., ..., 190., 255., 255.]],\n",
       "\n",
       "       [[255., 255., 255., ..., 244., 255., 218.],\n",
       "        [255., 179., 255., ..., 217., 255., 253.],\n",
       "        [215.,  59.,  25., ..., 119., 236., 122.],\n",
       "        ...,\n",
       "        [255., 171., 255., ..., 208., 255., 255.],\n",
       "        [255., 175., 255., ..., 218., 255., 255.],\n",
       "        [255., 175., 255., ..., 210., 255., 255.]],\n",
       "\n",
       "       [[ 68.,  68.,  68., ...,  68.,  68.,  68.],\n",
       "        [ 68.,  68.,  68., ...,  68.,  68.,  68.],\n",
       "        [ 68.,  68.,  68., ...,  68.,  68.,  68.],\n",
       "        ...,\n",
       "        [ 68.,  68.,  68., ...,  68.,  68.,  68.],\n",
       "        [ 68.,  68.,  68., ...,  68.,  68.,  68.],\n",
       "        [ 68.,  68.,  68., ...,  68.,  68.,  68.]]])"
      ]
     },
     "execution_count": 3,
     "metadata": {},
     "output_type": "execute_result"
    }
   ],
   "source": [
    "A"
   ]
  },
  {
   "cell_type": "code",
   "execution_count": 4,
   "id": "4613efd0",
   "metadata": {},
   "outputs": [
    {
     "ename": "NameError",
     "evalue": "name 'torch' is not defined",
     "output_type": "error",
     "traceback": [
      "\u001b[1;31m---------------------------------------------------------------------------\u001b[0m",
      "\u001b[1;31mNameError\u001b[0m                                 Traceback (most recent call last)",
      "\u001b[1;32m<ipython-input-4-108c6bf59449>\u001b[0m in \u001b[0;36m<module>\u001b[1;34m\u001b[0m\n\u001b[1;32m----> 1\u001b[1;33m \u001b[0ma\u001b[0m \u001b[1;33m=\u001b[0m \u001b[0mtorch\u001b[0m\u001b[1;33m.\u001b[0m\u001b[0mrandn\u001b[0m\u001b[1;33m(\u001b[0m\u001b[0mA\u001b[0m\u001b[1;33m)\u001b[0m\u001b[1;33m\u001b[0m\u001b[0m\n\u001b[0m\u001b[0;32m      2\u001b[0m \u001b[0ma\u001b[0m\u001b[1;33m\u001b[0m\u001b[0m\n",
      "\u001b[1;31mNameError\u001b[0m: name 'torch' is not defined"
     ]
    }
   ],
   "source": [
    "\n",
    "a = torch.randn(A)\n",
    "a"
   ]
  },
  {
   "cell_type": "code",
   "execution_count": null,
   "id": "b531de05",
   "metadata": {},
   "outputs": [],
   "source": []
  },
  {
   "cell_type": "code",
   "execution_count": null,
   "id": "47b4b207",
   "metadata": {},
   "outputs": [],
   "source": []
  }
 ],
 "metadata": {
  "kernelspec": {
   "display_name": "Python 3",
   "language": "python",
   "name": "python3"
  },
  "language_info": {
   "codemirror_mode": {
    "name": "ipython",
    "version": 3
   },
   "file_extension": ".py",
   "mimetype": "text/x-python",
   "name": "python",
   "nbconvert_exporter": "python",
   "pygments_lexer": "ipython3",
   "version": "3.6.5"
  }
 },
 "nbformat": 4,
 "nbformat_minor": 5
}
